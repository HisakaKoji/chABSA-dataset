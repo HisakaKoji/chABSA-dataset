{
 "cells": [
  {
   "cell_type": "markdown",
   "metadata": {},
   "source": [
    "# 1.chABSAデータセットを読み込み、DataLoaderの作成(BertのTokenizerを利用）"
   ]
  },
  {
   "cell_type": "code",
   "execution_count": null,
   "metadata": {},
   "outputs": [],
   "source": [
    "# パスの追加\n",
    "import sys\n",
    "sys.path.append('/home/siny/miniconda3/envs/pytorch/lib/python36.zip')\n",
    "sys.path.append('/home/siny/miniconda3/envs/pytorch/lib/python3.6')\n",
    "sys.path.append('/home/siny/miniconda3/envs/pytorch/lib/python3.6/lib-dynload')\n",
    "sys.path.append('/home/siny/.local/lib/python3.6/site-packages')\n",
    "sys.path.append('/home/siny/miniconda3/envs/pytorch/lib/python3.6/site-packages')"
   ]
  },
  {
   "cell_type": "code",
   "execution_count": null,
   "metadata": {},
   "outputs": [],
   "source": [
    "import random\n",
    "import time\n",
    "import numpy as np\n",
    "from tqdm import tqdm\n",
    "import torch \n",
    "from torch import nn\n",
    "import torch.optim as optim\n",
    "import torchtext"
   ]
  },
  {
   "cell_type": "code",
   "execution_count": null,
   "metadata": {},
   "outputs": [],
   "source": [
    "from utils.dataloader import get_chABSA_DataLoaders_and_TEXT\n",
    "from utils.bert import BertTokenizer\n"
   ]
  },
  {
   "cell_type": "code",
   "execution_count": null,
   "metadata": {
    "scrolled": true
   },
   "outputs": [],
   "source": [
    "train_dl, val_dl, TEXT, dataloaders_dict= get_chABSA_DataLoaders_and_TEXT(max_length=256, batch_size=32)"
   ]
  },
  {
   "cell_type": "code",
   "execution_count": null,
   "metadata": {},
   "outputs": [],
   "source": [
    "# 動作確認 検証データのデータセットで確認\n",
    "batch = next(iter(train_dl))\n",
    "print(\"Textの形状=\", batch.Text[0].shape)\n",
    "print(\"Labelの形状=\", batch.Label.shape)\n",
    "print(batch.Text)\n",
    "print(batch.Label)"
   ]
  },
  {
   "cell_type": "code",
   "execution_count": null,
   "metadata": {},
   "outputs": [],
   "source": [
    "# ミニバッチの1文目を確認してみる\n",
    "tokenizer_bert = BertTokenizer(vocab_file=\"./vocab/vocab.txt\", do_lower_case=False)\n",
    "text_minibatch_1 = (batch.Text[0][1]).numpy()\n",
    "\n",
    "# IDを単語に戻す\n",
    "text = tokenizer_bert.convert_ids_to_tokens(text_minibatch_1)\n",
    "\n",
    "print(text)\n"
   ]
  },
  {
   "cell_type": "markdown",
   "metadata": {},
   "source": [
    "# 2.BERTによるネガポジ分類モデル実装"
   ]
  },
  {
   "cell_type": "code",
   "execution_count": null,
   "metadata": {},
   "outputs": [],
   "source": [
    "from utils.bert import get_config, BertModel,BertForchABSA, set_learned_params\n",
    "\n",
    "# モデル設定のJOSNファイルをオブジェクト変数として読み込みます\n",
    "config = get_config(file_path=\"./weights/bert_config.json\")\n",
    "\n",
    "# BERTモデルを作成します\n",
    "net_bert = BertModel(config)\n",
    "\n",
    "# BERTモデルに学習済みパラメータセットします\n",
    "net_bert = set_learned_params(\n",
    "    net_bert, weights_path=\"./weights/pytorch_model.bin\")"
   ]
  },
  {
   "cell_type": "code",
   "execution_count": null,
   "metadata": {},
   "outputs": [],
   "source": [
    "# モデル構築\n",
    "net = BertForchABSA(net_bert)\n",
    "\n",
    "# 訓練モードに設定\n",
    "net.train()\n",
    "\n",
    "print('ネットワーク設定完了')"
   ]
  },
  {
   "cell_type": "markdown",
   "metadata": {},
   "source": [
    "# 3.BERTのファインチューニングに向けた設定"
   ]
  },
  {
   "cell_type": "code",
   "execution_count": null,
   "metadata": {},
   "outputs": [],
   "source": [
    "# 勾配計算を最後のBertLayerモジュールと追加した分類アダプターのみ実行\n",
    "\n",
    "# 1. まず全部を、勾配計算Falseにしてしまう\n",
    "for name, param in net.named_parameters():\n",
    "    param.requires_grad = False\n",
    "\n",
    "# 2. 最後のBertLayerモジュールを勾配計算ありに変更\n",
    "for name, param in net.bert.encoder.layer[-1].named_parameters():\n",
    "    param.requires_grad = True\n",
    "\n",
    "# 3. 識別器を勾配計算ありに変更\n",
    "for name, param in net.cls.named_parameters():\n",
    "    param.requires_grad = True\n"
   ]
  },
  {
   "cell_type": "code",
   "execution_count": null,
   "metadata": {},
   "outputs": [],
   "source": [
    "# 最適化手法の設定\n",
    "\n",
    "# BERTの元の部分はファインチューニング\n",
    "optimizer = optim.Adam([\n",
    "    {'params': net.bert.encoder.layer[-1].parameters(), 'lr': 5e-5},\n",
    "    {'params': net.cls.parameters(), 'lr': 5e-5}\n",
    "], betas=(0.9, 0.999))\n",
    "\n",
    "# 損失関数の設定\n",
    "criterion = nn.CrossEntropyLoss()\n",
    "# nn.LogSoftmax()を計算してからnn.NLLLoss(negative log likelihood loss)を計算\n"
   ]
  },
  {
   "cell_type": "code",
   "execution_count": null,
   "metadata": {},
   "outputs": [],
   "source": [
    "# 学習・検証を実施\n",
    "from utils.train import train_model\n",
    "\n",
    "# 学習・検証を実行する。\n",
    "num_epochs = 1\n",
    "net_trained = train_model(net, dataloaders_dict,\n",
    "                          criterion, optimizer, num_epochs=num_epochs)\n"
   ]
  },
  {
   "cell_type": "code",
   "execution_count": null,
   "metadata": {},
   "outputs": [],
   "source": [
    "# 学習したネットワークパラメータを保存します\n",
    "save_path = './weights/bert_fine_tuning_chABSA_22epoch.pth'\n",
    "torch.save(net_trained.state_dict(), save_path)\n"
   ]
  },
  {
   "cell_type": "code",
   "execution_count": null,
   "metadata": {},
   "outputs": [],
   "source": [
    "# モデルの生成\n",
    "net_trained = BertForchABSA(net_bert)\n",
    "save_path = './weights/bert_fine_tuning_chABSA_22epoch.pth'\n",
    "# 学習したネットワークパラメータをロード\n",
    "net_trained.load_state_dict(torch.load(save_path, map_location='cpu'))\n",
    "net_trained.eval()"
   ]
  },
  {
   "cell_type": "markdown",
   "metadata": {},
   "source": [
    "# 4.サンプルの文章で推論とAttentionを可視化する。"
   ]
  },
  {
   "cell_type": "code",
   "execution_count": 4,
   "metadata": {},
   "outputs": [],
   "source": [
    "from utils.config import *\n",
    "from utils.predict import predict, create_vocab_text, build_bert_model\n",
    "from IPython.display import HTML, display"
   ]
  },
  {
   "cell_type": "code",
   "execution_count": null,
   "metadata": {
    "scrolled": true
   },
   "outputs": [],
   "source": [
    "#TEXTオブジェクト（torchtext.data.field.Field）をpklファイルにダンプしておく（推論時に利用するため）\n",
    "# 1度生成すればＯＫ\n",
    "TEXT = create_vocab_text()"
   ]
  },
  {
   "cell_type": "code",
   "execution_count": 5,
   "metadata": {},
   "outputs": [
    {
     "name": "stdout",
     "output_type": "stream",
     "text": [
      "['以上', 'の', '結果', '、', '当', '連結', '会計', '年度', 'に', 'おける', '売上高', '[UNK]', '，', '[UNK]', '円', '（', '前年', '同期', '比', '[UNK]', '円', '減', '、', '[UNK]', '．', '[UNK]', '％', '減', '）', '、', '営業', '損失', '[UNK]', '円', '（', '前年', '同期', '比', '[UNK]', '円', '減', '、', '前年', '同期', '営業', '利益', '[UNK]', '円', '）', '、', '[UNK]', '損失', '[UNK]', '円', '（', '前年', '同期', '比', '[UNK]', '円', '減', '、', '前年', '同期', '[UNK]', '利益', '[UNK]', '円', '）', '、', '親会社', '株主', 'に', '帰属', 'する', '[UNK]', '純', '損失', '[UNK]', '円', '（', '前年', '同期', '比', '[UNK]', '円', '減', '、', '前年', '同期', '親会社', '株主', 'に', '帰属', 'する', '[UNK]', '純', '利益', '[UNK]', '円', '）', 'と', 'なり', 'ました']\n",
      "[2, 269, 5, 337, 6, 719, 3700, 5481, 594, 8, 217, 16720, 1, 176, 1, 387, 16, 2307, 3704, 2460, 1, 387, 4265, 6, 1, 264, 1, 257, 4265, 17, 6, 911, 7429, 1, 387, 16, 2307, 3704, 2460, 1, 387, 4265, 6, 2307, 3704, 911, 3718, 1, 387, 17, 6, 1, 7429, 1, 387, 16, 2307, 3704, 2460, 1, 387, 4265, 6, 2307, 3704, 1, 3718, 1, 387, 17, 6, 11100, 6970, 8, 13937, 22, 1, 3962, 7429, 1, 387, 16, 2307, 3704, 2460, 1, 387, 4265, 6, 2307, 3704, 11100, 6970, 8, 13937, 22, 1, 3962, 3718, 1, 387, 17, 12, 105, 4561, 3]\n",
      "======================推論結果の表示======================\n",
      "以上の結果、当連結会計年度における売上高1,785百万円(前年同期比357百万円減、16.7％減)、営業損失117百万円(前年同期比174百万円減、前年同期　営業利益57百万円)、経常損失112百万円(前年同期比183百万円減、前年同期　経常利益71百万円)、親会社株主に帰属する当期純損失58百万円(前年同期比116百万円減、前年同期　親会社株主に帰属する当期純利益57百万円)となりました\n"
     ]
    },
    {
     "data": {
      "text/html": [
       "推論ラベル：Negative<br><br>[BERTのAttentionを可視化_ALL]<br><span style=\"background-color: #FFEAEA\"> [CLS]</span><span style=\"background-color: #FF6969\"> 以上</span><span style=\"background-color: #FFF0F0\"> の</span><span style=\"background-color: #FF6E6E\"> 結果</span><span style=\"background-color: #FFDBDB\"> 、</span><span style=\"background-color: #FFAEAE\"> 当</span><span style=\"background-color: #FF9E9E\"> 連結</span><span style=\"background-color: #FF9E9E\"> 会計</span><span style=\"background-color: #FFD6D6\"> 年度</span><span style=\"background-color: #FFFCFC\"> に</span><span style=\"background-color: #FFE5E5\"> おける</span><span style=\"background-color: #FFA9A9\"> 売上高</span><span style=\"background-color: #FFA2A2\"> [UNK]</span><span style=\"background-color: #FFCDCD\"> ，</span><span style=\"background-color: #FFDBDB\"> [UNK]</span><span style=\"background-color: #FF9D9D\"> 円</span><span style=\"background-color: #FFF6F6\"> （</span><span style=\"background-color: #FFC2C2\"> 前年</span><span style=\"background-color: #FF9494\"> 同期</span><span style=\"background-color: #FFCFCF\"> 比</span><span style=\"background-color: #FFF6F6\"> [UNK]</span><span style=\"background-color: #FFE0E0\"> 円</span><span style=\"background-color: #FFA7A7\"> 減</span><span style=\"background-color: #FFF3F3\"> 、</span><span style=\"background-color: #FFE8E8\"> [UNK]</span><span style=\"background-color: #FFB1B1\"> ．</span><span style=\"background-color: #FFEFEF\"> [UNK]</span><span style=\"background-color: #FFE0E0\"> ％</span><span style=\"background-color: #FF8787\"> 減</span><span style=\"background-color: #FFF2F2\"> ）</span><span style=\"background-color: #FFEEEE\"> 、</span><span style=\"background-color: #FFE7E7\"> 営業</span><span style=\"background-color: #FFA1A1\"> 損失</span><span style=\"background-color: #FFE6E6\"> [UNK]</span><span style=\"background-color: #FFBBBB\"> 円</span><span style=\"background-color: #FFF0F0\"> （</span><span style=\"background-color: #FFC6C6\"> 前年</span><span style=\"background-color: #FF8F8F\"> 同期</span><span style=\"background-color: #FFCACA\"> 比</span><span style=\"background-color: #FFF9F9\"> [UNK]</span><span style=\"background-color: #FFE1E1\"> 円</span><span style=\"background-color: #FFAAAA\"> 減</span><span style=\"background-color: #FFEBEB\"> 、</span><span style=\"background-color: #FFCDCD\"> 前年</span><span style=\"background-color: #FF8F8F\"> 同期</span><span style=\"background-color: #FFE8E8\"> 営業</span><span style=\"background-color: #FFCCCC\"> 利益</span><span style=\"background-color: #FFF2F2\"> [UNK]</span><span style=\"background-color: #FFD1D1\"> 円</span><span style=\"background-color: #FFF5F5\"> ）</span><span style=\"background-color: #FFEBEB\"> 、</span><span style=\"background-color: #FFF2F2\"> [UNK]</span><span style=\"background-color: #FFD2D2\"> 損失</span><span style=\"background-color: #FFF7F7\"> [UNK]</span><span style=\"background-color: #FFDDDD\"> 円</span><span style=\"background-color: #FFF3F3\"> （</span><span style=\"background-color: #FFE4E4\"> 前年</span><span style=\"background-color: #FFD8D8\"> 同期</span><span style=\"background-color: #FFE5E5\"> 比</span><span style=\"background-color: #FFFAFA\"> [UNK]</span><span style=\"background-color: #FFF3F3\"> 円</span><span style=\"background-color: #FFCECE\"> 減</span><span style=\"background-color: #FFEFEF\"> 、</span><span style=\"background-color: #FFEAEA\"> 前年</span><span style=\"background-color: #FFDADA\"> 同期</span><span style=\"background-color: #FFFAFA\"> [UNK]</span><span style=\"background-color: #FFECEC\"> 利益</span><span style=\"background-color: #FFF9F9\"> [UNK]</span><span style=\"background-color: #FFEBEB\"> 円</span><span style=\"background-color: #FFF6F6\"> ）</span><span style=\"background-color: #FFD3D3\"> 、</span><span style=\"background-color: #FFEFEF\"> 親会社</span><span style=\"background-color: #FFDCDC\"> 株主</span><span style=\"background-color: #FFFDFD\"> に</span><span style=\"background-color: #FFDDDD\"> 帰属</span><span style=\"background-color: #FFF6F6\"> する</span><span style=\"background-color: #FFE3E3\"> [UNK]</span><span style=\"background-color: #FFEBEB\"> 純</span><span style=\"background-color: #FFA5A5\"> 損失</span><span style=\"background-color: #FFE4E4\"> [UNK]</span><span style=\"background-color: #FFD1D1\"> 円</span><span style=\"background-color: #FFEBEB\"> （</span><span style=\"background-color: #FFE0E0\"> 前年</span><span style=\"background-color: #FFD2D2\"> 同期</span><span style=\"background-color: #FFE0E0\"> 比</span><span style=\"background-color: #FFFAFA\"> [UNK]</span><span style=\"background-color: #FFF4F4\"> 円</span><span style=\"background-color: #FFBCBC\"> 減</span><span style=\"background-color: #FFF2F2\"> 、</span><span style=\"background-color: #FFE6E6\"> 前年</span><span style=\"background-color: #FFEAEA\"> 同期</span><span style=\"background-color: #FFF3F3\"> 親会社</span><span style=\"background-color: #FFF8F8\"> 株主</span><span style=\"background-color: #FFFEFE\"> に</span><span style=\"background-color: #FFF6F6\"> 帰属</span><span style=\"background-color: #FFFAFA\"> する</span><span style=\"background-color: #FFF9F9\"> [UNK]</span><span style=\"background-color: #FFF1F1\"> 純</span><span style=\"background-color: #FFF0F0\"> 利益</span><span style=\"background-color: #FFF2F2\"> [UNK]</span><span style=\"background-color: #FFEBEB\"> 円</span><span style=\"background-color: #FFF2F2\"> ）</span><span style=\"background-color: #FFCDCD\"> と</span><span style=\"background-color: #FF7272\"> なり</span><span style=\"background-color: #FF0000\"> ました</span><br><br>"
      ],
      "text/plain": [
       "<IPython.core.display.HTML object>"
      ]
     },
     "metadata": {},
     "output_type": "display_data"
    }
   ],
   "source": [
    "input_text = \"以上の結果、当連結会計年度における売上高1,785百万円(前年同期比357百万円減、16.7％減)、営業損失117百万円(前年同期比174百万円減、前年同期　営業利益57百万円)、経常損失112百万円(前年同期比183百万円減、前年同期　経常利益71百万円)、親会社株主に帰属する当期純損失58百万円(前年同期比116百万円減、前年同期　親会社株主に帰属する当期純利益57百万円)となりました\"\n",
    "net_trained = build_bert_model()\n",
    "html_output = predict(input_text, net_trained)\n",
    "print(\"======================推論結果の表示======================\")\n",
    "print(input_text)\n",
    "display(HTML(html_output))"
   ]
  },
  {
   "cell_type": "code",
   "execution_count": null,
   "metadata": {},
   "outputs": [],
   "source": []
  }
 ],
 "metadata": {
  "kernelspec": {
   "display_name": "pytorch-segmentation-detection",
   "language": "python",
   "name": "pytorch-segmentation-detection"
  },
  "language_info": {
   "codemirror_mode": {
    "name": "ipython",
    "version": 3
   },
   "file_extension": ".py",
   "mimetype": "text/x-python",
   "name": "python",
   "nbconvert_exporter": "python",
   "pygments_lexer": "ipython3",
   "version": "3.6.7"
  }
 },
 "nbformat": 4,
 "nbformat_minor": 2
}
